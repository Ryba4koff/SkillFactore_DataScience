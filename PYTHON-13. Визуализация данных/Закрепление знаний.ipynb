{
 "cells": [
  {
   "cell_type": "code",
   "execution_count": 9,
   "metadata": {},
   "outputs": [],
   "source": [
    "import pandas as pd\n",
    "churn_data = pd.read_csv('data/churn.csv')\n",
    "import matplotlib.pyplot as plt\n",
    "%matplotlib inline\n",
    "plt.style.use('default')\n",
    "import seaborn as sns\n",
    "import plotly\n",
    "import plotly.express as px"
   ]
  },
  {
   "cell_type": "markdown",
   "metadata": {},
   "source": [
    "Столбцы таблицы:\n",
    "\n",
    "* *RowNumber* — номер строки таблицы (это лишняя информация, поэтому можете сразу от неё избавиться)\n",
    "* *CustomerId* — идентификатор клиента\n",
    "* *Surname* — фамилия клиента\n",
    "* *CreditScore* — кредитный рейтинг клиента (чем он выше, тем больше клиент брал кредитов и возвращал их)\n",
    "* *Geography* — страна клиента (банк международный)\n",
    "* *Gender* — пол клиента\n",
    "* *Age* — возраст клиента\n",
    "* *Tenure* — сколько лет клиент пользуется услугами банка\n",
    "* *Balance* — баланс на счетах клиента в банке\n",
    "* *NumOfProducts* — количество услуг банка, которые приобрёл клиент\n",
    "* *HasCrCard* — есть ли у клиента кредитная карта (1 — да, 0 — нет)\n",
    "* *IsActiveMember* — есть ли у клиента статус активного клиента банка (1 — да, 0 — нет)\n",
    "* *EstimatedSalary* — предполагаемая заработная плата клиента\n",
    "* *Exited* — статус лояльности (1 — ушедший клиент, 0 — лояльный клиент)\n",
    "\n",
    "-----------\n",
    "-  [схема выбора графика](https://lms.skillfactory.ru/courses/course-v1:SkillFactory+DSPR-2.0+14JULY2021/jump_to_id/9b4a1307977d419f96329d97261bcfde#visual-scheme)"
   ]
  },
  {
   "cell_type": "code",
   "execution_count": 14,
   "metadata": {},
   "outputs": [],
   "source": [
    "churn_df = churn_data.copy()\n",
    "churn_df = churn_df.drop('RowNumber', axis=1)"
   ]
  }
 ],
 "metadata": {
  "kernelspec": {
   "display_name": "Python 3",
   "language": "python",
   "name": "python3"
  },
  "language_info": {
   "codemirror_mode": {
    "name": "ipython",
    "version": 3
   },
   "file_extension": ".py",
   "mimetype": "text/x-python",
   "name": "python",
   "nbconvert_exporter": "python",
   "pygments_lexer": "ipython3",
   "version": "3.11.9"
  }
 },
 "nbformat": 4,
 "nbformat_minor": 2
}
