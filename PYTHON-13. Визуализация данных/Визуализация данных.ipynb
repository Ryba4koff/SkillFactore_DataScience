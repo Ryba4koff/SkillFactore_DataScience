{
 "cells": [
  {
   "cell_type": "code",
   "execution_count": 43,
   "metadata": {},
   "outputs": [],
   "source": [
    "import pandas as pd\n",
    "covid_data = pd.read_csv('data/covid_data.csv')\n",
    "vaccinations_data = pd.read_csv('data/country_vaccinations.csv')\n",
    "vaccinations_data = vaccinations_data[\n",
    "    ['country', 'date', 'total_vaccinations', \n",
    "     'people_vaccinated', 'people_vaccinated_per_hundred',\n",
    "     'people_fully_vaccinated', 'people_fully_vaccinated_per_hundred',\n",
    "     'daily_vaccinations', 'vaccines']\n",
    "]"
   ]
  },
  {
   "cell_type": "markdown",
   "metadata": {},
   "source": [
    "## 3. Знакомимся с новыми данными: коронавирус\n"
   ]
  },
  {
   "cell_type": "markdown",
   "metadata": {},
   "source": [
    "Мы будем изучать методы визуализации, используя два набора данных:\n",
    "\n",
    "1. [covid_data](https://lms-cdn.skillfactory.ru/assets/courseware/v1/e8e401d5f46b6c4e81f7330cc24d4fe2/asset-v1:SkillFactory+DSPR-2.0+14JULY2021+type@asset+block/covid_data.zip) — данные о показателях заболеваемости за каждый день в различных регионах 187 стран. [(источник данных)](https://www.kaggle.com/sudalairajkumar/novel-corona-virus-2019-dataset)\n",
    "\n",
    "Мы будем работать со следующими столбцами:\n",
    "\n",
    "* *date* — дата наблюдения;\n",
    "* *province*/*state* — наименование провинции/штата;\n",
    "* *country* — наименование страны;\n",
    "* *confirmed* — общее число зафиксированных случаев на указанный день;\n",
    "* *deaths* — общее число зафиксированных смертей на указанный день;\n",
    "* *recovered* — общее число выздоровлений на указанный день\n",
    "\n",
    "2. [country_vaccinations](https://lms-cdn.skillfactory.ru/assets/courseware/v1/4f12d963943a898af014981a4a822088/asset-v1:SkillFactory+DSPR-2.0+14JULY2021+type@asset+block/country_vaccinations.zip) — данные о процессе вакцинирования людей в 221 стране мира. [(источник данных)](https://www.kaggle.com/gpreda/covid-world-vaccination-progress)\n",
    "\n",
    "> Обратите внимание, что в приведённом источнике данные о вакцинации постоянно обновляются. В данном модуле будет использоваться файл, который мы скачали заранее.\n",
    "\n",
    "Данная таблица содержит следующие столбцы:\n",
    "\n",
    "* *country* — наименование страны;\n",
    "* *date* — дата наблюдения;\n",
    "* *total_vaccinations* — общее число введённых вакцин в стране на указанный день;\n",
    "* *people_vaccinated* — общее число привитых первым компонентом в стране на указанный день;\n",
    "* *people_vaccinated_per_hundred* — процент привитых первым компонентом в стране на указанный день (рассчитывается как *people_vaccinated / population* * 100);\n",
    "* *people_fully_vaccinated* — общее число привитых вторым компонентом в стране на указанный день (первый компонент уже был введён им ранее);\n",
    "* *people_fully_vaccinated_per_hundred* — процент привитых вторым компонентом в стране на указанный день (рассчитывается как *people_fully_vaccinated* / *population* * 100);\n",
    "* *daily_vaccination* — ежедневная вакцинация (число вакцинированных в указанный день);\n",
    "* *vaccines* — комбинации вакцин, используемые в стране.\n",
    "\n",
    "#### НЕМНОГО ОБ ОСОБЕННОСТЯХ ДАННЫХ\n",
    "В таблице *covid_data* данные о заболеваемости представлены для каждого региона (штата) страны за каждый день.    \n",
    "Например, для США (United States) записи за 29 мая 2021 года имеют вид:   \n",
    "\n",
    "![таблица](https://lms-cdn.skillfactory.ru/assets/courseware/v1/230393ba3d8d6c83c12538a8c4f1d0c6/asset-v1:SkillFactory+DSPR-2.0+14JULY2021+type@asset+block/dst3-u1-md13_3_4.png)\n",
    "\n",
    "В таблице *vaccinations_data* параметры вакцинирования отображены для всех стран на каждый день, без учёта регионов.    \n",
    "Вот часть таблицы для тех же Соединённых Штатов за 29 мая 2021 года. Как видите, она всего одна:\n",
    "\n",
    "![таблица](https://lms-cdn.skillfactory.ru/assets/courseware/v1/83b7cc0f85531b6c2f07146579fab466/asset-v1:SkillFactory+DSPR-2.0+14JULY2021+type@asset+block/dst3-u1-md13_3_5.png)\n",
    "\n",
    "В данных много пропусков, а также неверно введённых значений. Например, для США (United States) и Великобритании (United Kingdom) в большинстве записей таблицы covid_data число выздоровевших людей равно 0.    \n",
    "В данном модуле мы закроем на это глаза, но вообще эти страны подлежали бы исключению из данных или нам понадобился бы дополнительный источник данных, из которого мы смогли бы получить недостающую информацию.\n",
    "\n",
    "> братите внимание, что признаки confirmed, deaths, recovered, total_vaccination, people_vaccinated, people_fully_vaccinated — это суммарные показатели по стране, то есть с каждым днём они должны расти.    \n",
    "Такие признаки называют накопительными.\n",
    "\n",
    "Возникает большое желание объединить таблицы. Для этого необходимо учитывать следующие нюансы:\n",
    "\n",
    "1. В таблице covid_data необходимо предварительно рассчитать суммарное ежедневное число заболевших во всех провинциях/штатах в каждой стране.\n",
    "2. В таблицах не совпадает число стран, а иногда и их названия. \n",
    "При объединении таблиц по столбцу мы определённо теряем данные (в данной задаче потери незначительны).    \n",
    "Избежать этого можно ручными преобразованиями данных — искать различия в названиях стран в таблицах и преобразовывать их. Однако это не является темой данного модуля.\n",
    "3. Таблицы имеют разные периоды наблюдений (вакцины появились позже, чем сам вирус). Объединив данные с типом inner, мы можем потерять большое количество наблюдений в таблице covid_data.\n",
    "\n",
    "#### ПРЕДОБРАБОТКА ДАННЫХ\n",
    "Опираясь на замечания выше, выполним небольшую предобработку.\n",
    "\n",
    "В таблице *covid_data*:\n",
    "\n",
    "1. Группируем таблицу по дате и названию страны и рассчитываем суммарные показатели по всем регионам. Тем самым переходим от данных по регионам к данным по странам:"
   ]
  },
  {
   "cell_type": "code",
   "execution_count": 44,
   "metadata": {},
   "outputs": [],
   "source": [
    "covid_data = covid_data.groupby(\n",
    "    ['date', 'country'], \n",
    "    as_index=False\n",
    ")[['confirmed', 'deaths', 'recovered']].sum()"
   ]
  },
  {
   "cell_type": "markdown",
   "metadata": {},
   "source": [
    "2. Преобразуем даты в формат datetime с помощью функции **pd.to_datetime()**:"
   ]
  },
  {
   "cell_type": "code",
   "execution_count": 45,
   "metadata": {},
   "outputs": [],
   "source": [
    "covid_data['date'] = pd.to_datetime(covid_data['date'])"
   ]
  },
  {
   "cell_type": "markdown",
   "metadata": {},
   "source": [
    "3. Создадим признак больных на данный момент (active). Для этого вычтем из общего числа зафиксированных случаев число смертей и число выздоровевших пациентов:"
   ]
  },
  {
   "cell_type": "code",
   "execution_count": 46,
   "metadata": {},
   "outputs": [],
   "source": [
    "covid_data['active'] = covid_data['confirmed'] - covid_data['deaths'] - covid_data['recovered']"
   ]
  },
  {
   "cell_type": "markdown",
   "metadata": {},
   "source": [
    "4. Создадим признак ежедневного прироста числа заболевших, умерших и выздоровевших людей. Для этого отсортируем данные по названиям стран, а затем по датам.   \n",
    "После этого произведём группировку по странам и рассчитаем разницу между «вчера и сегодня» с помощью метода *diff*():"
   ]
  },
  {
   "cell_type": "code",
   "execution_count": 47,
   "metadata": {},
   "outputs": [],
   "source": [
    "covid_data = covid_data.sort_values(by=['country', 'date'])\n",
    "covid_data['daily_confirmed'] = covid_data.groupby('country')['confirmed'].diff()\n",
    "covid_data['daily_deaths'] = covid_data.groupby('country')['deaths'].diff()\n",
    "covid_data['daily_recovered'] = covid_data.groupby('country')['recovered'].diff()"
   ]
  },
  {
   "cell_type": "markdown",
   "metadata": {},
   "source": [
    "Итоговый вид таблицы *covid_data*:\n",
    "\n",
    "![covid_data](https://lms-cdn.skillfactory.ru/assets/courseware/v1/c372c51b2676436625da5f1402faa1f1/asset-v1:SkillFactory+DSPR-2.0+14JULY2021+type@asset+block/dst3-u1-md13_3_6.png)"
   ]
  },
  {
   "cell_type": "markdown",
   "metadata": {},
   "source": [
    "В таблице *vaccinations_data* достаточно будет преобразовать столбцы в формат *datetime*:"
   ]
  },
  {
   "cell_type": "code",
   "execution_count": 48,
   "metadata": {},
   "outputs": [],
   "source": [
    "vaccinations_data['date'] = pd.to_datetime(vaccinations_data['date'])"
   ]
  },
  {
   "cell_type": "markdown",
   "metadata": {},
   "source": [
    "## Practice.3"
   ]
  },
  {
   "cell_type": "markdown",
   "metadata": {},
   "source": [
    "### Задание 3.1 - 3.2\n",
    "За какой период представлены данные в таблице covid_data? В качестве ответа введите даты в формате datetime (без указания времени).\n",
    "За какой период представлены данные в таблице vaccinations_data? В качестве ответа введите даты в формате datetime без указания времени."
   ]
  },
  {
   "cell_type": "code",
   "execution_count": 49,
   "metadata": {},
   "outputs": [
    {
     "name": "stdout",
     "output_type": "stream",
     "text": [
      "Данные по заболеваемости представленны за период с 2020-01-22 00:00:00 по 2021-05-29 00:00:00\n",
      "Данные по вакцинации представленны за период с 2020-12-02 00:00:00 по 2021-09-06 00:00:00\n"
     ]
    }
   ],
   "source": [
    "print(f\"Данные по заболеваемости представленны за период с {covid_data['date'].min()} по {covid_data['date'].max()}\")\n",
    "print(f\"Данные по вакцинации представленны за период с {vaccinations_data['date'].min()} по {vaccinations_data['date'].max()}\")\n"
   ]
  },
  {
   "cell_type": "markdown",
   "metadata": {},
   "source": [
    "### Задание 3.3\n",
    "С помощью метода *merge*() объедините таблицы *covid_data* и *vaccinations_data* по столбцам *date* и *country*.   \n",
    "Тип объединения выставьте так, чтобы в результирующую таблицу попали только наблюдения за период, вычисленный в задании 3.1.    \n",
    "То есть в результирующую таблицу должны попасть все записи из таблицы *covid_data* и из её пересечения с *vaccinations_data*, но не более.    \n",
    "Результат объединения занесите в переменную ***covid_df***."
   ]
  },
  {
   "cell_type": "code",
   "execution_count": 51,
   "metadata": {},
   "outputs": [
    {
     "name": "stdout",
     "output_type": "stream",
     "text": [
      "Число строк 86785\n",
      "Число столбцов 16\n"
     ]
    }
   ],
   "source": [
    "covid_df = covid_data.merge(\n",
    "    vaccinations_data,\n",
    "    on=['date', 'country'],\n",
    "    how='left'    \n",
    ")\n",
    "\n",
    "print(f\"Число строк {covid_df.shape[0]}\")\n",
    "print(f\"Число столбцов {covid_df.shape[1]}\")"
   ]
  },
  {
   "cell_type": "markdown",
   "metadata": {},
   "source": [
    "В получившейся в задании 3.3 таблице *covid_df* создайте признаки *death_rate* — общий процент смертей среди зафиксированных случаев (летальность) и *recover_rate* — общий процент случаев выздоровления.   \n",
    "Данные характеристики рассчитайте как отношение числа смертей (*deaths*) и числа выздоровлений (*recovered*) к числу зафиксированных случаев (*confirmed*) и умножьте результаты на 100%."
   ]
  },
  {
   "cell_type": "code",
   "execution_count": 63,
   "metadata": {},
   "outputs": [],
   "source": [
    "covid_df['death_rate'] = (covid_df['deaths'] / covid_df['confirmed']) * 100\n",
    "covid_df['recover_rate'] = (covid_df['recovered'] / covid_df['confirmed']) * 100"
   ]
  },
  {
   "cell_type": "markdown",
   "metadata": {},
   "source": [
    "### Задание 3.4\n",
    "\n",
    "Какова максимальная летальность в США (United States) за весь период? Ответ округлите до второго знака после запятой."
   ]
  },
  {
   "cell_type": "code",
   "execution_count": 61,
   "metadata": {},
   "outputs": [
    {
     "name": "stdout",
     "output_type": "stream",
     "text": [
      "Максимальная летальность в США равна : 7.19\n"
     ]
    }
   ],
   "source": [
    "print(f\"Максимальная летальность в США равна : {round(covid_df[covid_df['country'] == 'United States']['death_rate'].max(), 2)}\")"
   ]
  },
  {
   "cell_type": "markdown",
   "metadata": {},
   "source": [
    "### Задание 3.5\n",
    "Чему равен средний процент выздоровевших в России (Russia)? Ответ округлите до второго знака после запятой.\n"
   ]
  },
  {
   "cell_type": "code",
   "execution_count": 65,
   "metadata": {},
   "outputs": [
    {
     "name": "stdout",
     "output_type": "stream",
     "text": [
      "Средний процент выздоровивших в России равен: 67.06\n"
     ]
    }
   ],
   "source": [
    "print(f\"Средний процент выздоровивших в России равен: {round(covid_df[covid_df['country'] == 'Russia']['recover_rate'].mean(), 2)}\")"
   ]
  }
 ],
 "metadata": {
  "kernelspec": {
   "display_name": "Python 3",
   "language": "python",
   "name": "python3"
  },
  "language_info": {
   "codemirror_mode": {
    "name": "ipython",
    "version": 3
   },
   "file_extension": ".py",
   "mimetype": "text/x-python",
   "name": "python",
   "nbconvert_exporter": "python",
   "pygments_lexer": "ipython3",
   "version": "3.11.9"
  }
 },
 "nbformat": 4,
 "nbformat_minor": 2
}
