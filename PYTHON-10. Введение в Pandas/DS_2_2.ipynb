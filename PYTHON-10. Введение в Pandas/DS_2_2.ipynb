{
 "cells": [
  {
   "cell_type": "code",
   "execution_count": 1,
   "metadata": {},
   "outputs": [],
   "source": [
    "import pandas as pd"
   ]
  },
  {
   "cell_type": "markdown",
   "metadata": {},
   "source": [
    "## Задание 2.4 (External resource)\n",
    "Напишите функцию create_medications(names, counts), которая создает Series medications, индексами которой являются названия лекарств names, а значениями - их количество в поставке counts.\n",
    "А также напишите функцию get_percent(medications, name), которая возвращает долю количества товара с именем name от общего количества товаров в поставке в процентах."
   ]
  },
  {
   "cell_type": "code",
   "execution_count": null,
   "metadata": {},
   "outputs": [],
   "source": [
    "def create_medications(names, counts):\n",
    "    \n",
    "    medications = pd.Series(\n",
    "                        data = counts, \n",
    "                        index = names)\n",
    "    \n",
    "    return medications\n",
    "\n",
    "names=['chlorhexidine', 'cyntomycin', 'afobazol']\n",
    "counts=[15, 18, 7]\n",
    "print(create_medications(names, counts))    "
   ]
  },
  {
   "cell_type": "code",
   "execution_count": 12,
   "metadata": {},
   "outputs": [
    {
     "name": "stderr",
     "output_type": "stream",
     "text": [
      "C:\\Users\\rybachkov.s\\AppData\\Local\\Temp\\ipykernel_11732\\947754492.py:6: FutureWarning: Series.__getitem__ treating keys as positions is deprecated. In a future version, integer keys will always be treated as labels (consistent with DataFrame behavior). To access a value by position, use `ser.iloc[pos]`\n",
      "  sum += medications[i]\n"
     ]
    },
    {
     "data": {
      "text/plain": [
       "37.5"
      ]
     },
     "execution_count": 12,
     "metadata": {},
     "output_type": "execute_result"
    }
   ],
   "source": [
    "def get_percent(medications, names):\n",
    "    \n",
    "    sum = 0\n",
    "    \n",
    "    for i in range(len(medications)):\n",
    "        sum += medications[i]\n",
    "    \n",
    "    result = medications.loc[names]/sum * 100\n",
    "    return result\n",
    "    \n",
    "names=['chlorhexidine', 'cyntomycin', 'afobazol']\n",
    "counts=[15, 18, 7]\n",
    "medications = create_medications(names, counts)\n",
    "\n",
    "get_percent(medications, \"chlorhexidine\")"
   ]
  },
  {
   "cell_type": "markdown",
   "metadata": {},
   "source": [
    "## Задание 3.5 (External resource)\n",
    "Вы работаете аналитиком в компании ScienceYou. Ваша задача — проанализировать чистую прибыль.\n",
    "Доходы (income), расходы (expenses) и годы (years), соответствующие им, предоставлены вам в виде списков.\n",
    "Создайте функцию create_companyDF(income, expenses, years), которая возвращает DataFrame, составленный из входных данных со столбцами Income и Expenses и индексами, соответствующими годам рассматриваемого периода.\n",
    "Также напишите функцию get_profit(df, year), которая возвращает разницу между доходом и расходом, записанными в таблице df, за год year.\n",
    "\n",
    "Примечание. Если информация за запрашиваемый год не указана в вашей таблице, вам необходимо вернуть None.\n",
    "\n",
    "Примечание. Не забудьте ипортировать библиотеки."
   ]
  },
  {
   "cell_type": "code",
   "execution_count": null,
   "metadata": {},
   "outputs": [],
   "source": [
    "income = [478, 512, 196]\n",
    "expenses = [156, 130, 270]\n",
    "years = [2018, 2019, 2020]\n",
    "\n",
    "\n",
    "\n",
    "def create_companyDF(income, expenses, years):\n",
    "    \"\"\" Func возвращает DataFrame, составленный из входных данных со столбцами Income и Expenses и индексами, соответствующими годам рассматриваемого периода.\n",
    "\n",
    "    Args:\n",
    "        income (int): _description_\n",
    "        expenses (int): _description_\n",
    "        years (int): _description_\n",
    "    \"\"\"\n",
    "    \n",
    "    company_DF = pd.DataFrame({\n",
    "        \"Income\": income,\n",
    "        \"Expenses\": expenses\n",
    "    })\n",
    "    company_DF.index = years\n",
    "    \n",
    "    return company_DF\n",
    "\n",
    "\n",
    "def get_profit(df, year):\n",
    "    \"\"\" Func возвращает разницу между доходом и расходом, записанными в таблице df, за год year\n",
    "\n",
    "    Args:\n",
    "        df (DataFrame): result func create_companyDF\n",
    "        year (int): _description_\n",
    "    \"\"\"\n",
    "    if year in df.index:\n",
    "        res_incom = df[\"Income\"].loc[year]\n",
    "        res_expen = df[\"Expenses\"].loc[year]\n",
    "        return res_incom - res_expen\n",
    "    else:\n",
    "        return None\n",
    "\n",
    "year = 2019\n",
    "display(get_profit(create_companyDF(income, expenses, years), year))\n",
    "\n",
    "    "
   ]
  },
  {
   "cell_type": "markdown",
   "metadata": {},
   "source": [
    "# 9. Закрепление знаний"
   ]
  },
  {
   "cell_type": "code",
   "execution_count": 9,
   "metadata": {},
   "outputs": [],
   "source": [
    "student_data = pd.read_csv('data/students_performance.csv', sep=';')\n"
   ]
  }
 ],
 "metadata": {
  "kernelspec": {
   "display_name": "Python 3",
   "language": "python",
   "name": "python3"
  },
  "language_info": {
   "codemirror_mode": {
    "name": "ipython",
    "version": 3
   },
   "file_extension": ".py",
   "mimetype": "text/x-python",
   "name": "python",
   "nbconvert_exporter": "python",
   "pygments_lexer": "ipython3",
   "version": "3.11.9"
  }
 },
 "nbformat": 4,
 "nbformat_minor": 2
}
