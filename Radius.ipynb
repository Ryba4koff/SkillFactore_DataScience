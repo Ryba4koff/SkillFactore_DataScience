{
 "cells": [
  {
   "cell_type": "code",
   "execution_count": 3,
   "metadata": {},
   "outputs": [
    {
     "name": "stdout",
     "output_type": "stream",
     "text": [
      "261.16050558\n"
     ]
    }
   ],
   "source": [
    "# Const\n",
    "R = 14.21\n",
    "pi = 3.141592\n",
    "\n",
    "# Параметры для расчета\n",
    "alpha = 45\n",
    "l1 = 100\n",
    "l2 = 150\n",
    "# Расчет\n",
    "\n",
    "li = pi * alpha/180 * R \n",
    "l = l1 + l2 + li\n",
    "print (l)"
   ]
  }
 ],
 "metadata": {
  "kernelspec": {
   "display_name": "Python 3",
   "language": "python",
   "name": "python3"
  },
  "language_info": {
   "codemirror_mode": {
    "name": "ipython",
    "version": 3
   },
   "file_extension": ".py",
   "mimetype": "text/x-python",
   "name": "python",
   "nbconvert_exporter": "python",
   "pygments_lexer": "ipython3",
   "version": "3.11.9"
  }
 },
 "nbformat": 4,
 "nbformat_minor": 2
}
